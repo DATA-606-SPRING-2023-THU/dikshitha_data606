{
 "cells": [
  {
   "cell_type": "code",
   "execution_count": 28,
   "id": "b3b1e5d3",
   "metadata": {},
   "outputs": [],
   "source": [
    "import pandas as pd\n",
    "import numpy as np"
   ]
  },
  {
   "cell_type": "code",
   "execution_count": 29,
   "id": "e6244173",
   "metadata": {},
   "outputs": [],
   "source": [
    "# Reading the Description file\n",
    "\n",
    "with open(\"./Downloads/captions.txt\") as filepath:\n",
    "    captions = filepath.read()\n",
    "    filepath.close()"
   ]
  },
  {
   "cell_type": "code",
   "execution_count": 30,
   "id": "bb728130",
   "metadata": {},
   "outputs": [],
   "source": [
    "captions = captions.split(\"\\n\")[1:-1]"
   ]
  },
  {
   "cell_type": "code",
   "execution_count": 31,
   "id": "13020bb4",
   "metadata": {},
   "outputs": [
    {
     "data": {
      "text/plain": [
       "40455"
      ]
     },
     "execution_count": 31,
     "metadata": {},
     "output_type": "execute_result"
    }
   ],
   "source": [
    "len(captions)"
   ]
  },
  {
   "cell_type": "code",
   "execution_count": 32,
   "id": "4958291c",
   "metadata": {},
   "outputs": [],
   "source": [
    "# creating a \"descriptions\" dictionary  where key is 'img_name' and value is list of captions corresponding to that image_file.\n",
    "\n",
    "descriptions = {}\n",
    "\n",
    "for ele in captions:\n",
    "    first= ele.split(\",\")\n",
    "    img_name = first[0].split(\".\")[0]\n",
    "    caption = first[1]\n",
    "    \n",
    "    if descriptions.get(img_name) == None:\n",
    "        descriptions[img_name] = []\n",
    "\n",
    "    descriptions[img_name].append(caption)"
   ]
  },
  {
   "cell_type": "code",
   "execution_count": 33,
   "id": "2b883fdf",
   "metadata": {},
   "outputs": [
    {
     "data": {
      "text/plain": [
       "['A child in a pink dress is climbing up a set of stairs in an entry way .',\n",
       " 'A girl going into a wooden building .',\n",
       " 'A little girl climbing into a wooden playhouse .',\n",
       " 'A little girl climbing the stairs to her playhouse .',\n",
       " 'A little girl in a pink dress going into a wooden cabin .']"
      ]
     },
     "execution_count": 33,
     "metadata": {},
     "output_type": "execute_result"
    }
   ],
   "source": [
    "descriptions['1000268201_693b08cb0e']"
   ]
  },
  {
   "cell_type": "code",
   "execution_count": null,
   "id": "e608396a",
   "metadata": {},
   "outputs": [],
   "source": []
  }
 ],
 "metadata": {
  "kernelspec": {
   "display_name": "Python 3 (ipykernel)",
   "language": "python",
   "name": "python3"
  },
  "language_info": {
   "codemirror_mode": {
    "name": "ipython",
    "version": 3
   },
   "file_extension": ".py",
   "mimetype": "text/x-python",
   "name": "python",
   "nbconvert_exporter": "python",
   "pygments_lexer": "ipython3",
   "version": "3.9.13"
  }
 },
 "nbformat": 4,
 "nbformat_minor": 5
}
